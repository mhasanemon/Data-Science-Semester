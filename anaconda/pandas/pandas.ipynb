{
 "cells": [
  {
   "cell_type": "code",
   "execution_count": 4,
   "metadata": {
    "collapsed": true
   },
   "outputs": [],
   "source": [
    "import numpy as np\n",
    "import pandas as pd\n",
    "from numpy.random import randn"
   ]
  },
  {
   "cell_type": "code",
   "execution_count": null,
   "metadata": {
    "collapsed": true
   },
   "outputs": [],
   "source": []
  },
  {
   "cell_type": "code",
   "execution_count": 6,
   "metadata": {},
   "outputs": [
    {
     "data": {
      "text/html": [
       "<div>\n",
       "<style>\n",
       "    .dataframe thead tr:only-child th {\n",
       "        text-align: right;\n",
       "    }\n",
       "\n",
       "    .dataframe thead th {\n",
       "        text-align: left;\n",
       "    }\n",
       "\n",
       "    .dataframe tbody tr th {\n",
       "        vertical-align: top;\n",
       "    }\n",
       "</style>\n",
       "<table border=\"1\" class=\"dataframe\">\n",
       "  <thead>\n",
       "    <tr style=\"text-align: right;\">\n",
       "      <th></th>\n",
       "      <th>1</th>\n",
       "      <th>2</th>\n",
       "      <th>3</th>\n",
       "      <th>4</th>\n",
       "    </tr>\n",
       "  </thead>\n",
       "  <tbody>\n",
       "    <tr>\n",
       "      <th>A</th>\n",
       "      <td>-0.579051</td>\n",
       "      <td>-0.435242</td>\n",
       "      <td>-1.896622</td>\n",
       "      <td>-1.353671</td>\n",
       "    </tr>\n",
       "    <tr>\n",
       "      <th>B</th>\n",
       "      <td>-2.114372</td>\n",
       "      <td>0.641481</td>\n",
       "      <td>-1.815166</td>\n",
       "      <td>-0.064915</td>\n",
       "    </tr>\n",
       "    <tr>\n",
       "      <th>C</th>\n",
       "      <td>0.567479</td>\n",
       "      <td>-0.050509</td>\n",
       "      <td>0.363368</td>\n",
       "      <td>0.191672</td>\n",
       "    </tr>\n",
       "    <tr>\n",
       "      <th>D</th>\n",
       "      <td>-1.049278</td>\n",
       "      <td>0.266561</td>\n",
       "      <td>-0.189124</td>\n",
       "      <td>0.074415</td>\n",
       "    </tr>\n",
       "    <tr>\n",
       "      <th>E</th>\n",
       "      <td>-1.025613</td>\n",
       "      <td>1.678393</td>\n",
       "      <td>-0.797689</td>\n",
       "      <td>0.414735</td>\n",
       "    </tr>\n",
       "  </tbody>\n",
       "</table>\n",
       "</div>"
      ],
      "text/plain": [
       "          1         2         3         4\n",
       "A -0.579051 -0.435242 -1.896622 -1.353671\n",
       "B -2.114372  0.641481 -1.815166 -0.064915\n",
       "C  0.567479 -0.050509  0.363368  0.191672\n",
       "D -1.049278  0.266561 -0.189124  0.074415\n",
       "E -1.025613  1.678393 -0.797689  0.414735"
      ]
     },
     "execution_count": 6,
     "metadata": {},
     "output_type": "execute_result"
    }
   ],
   "source": [
    "pd.DataFrame(randn(5,4),['A','B','C','D','E'],['1','2','3','4'])"
   ]
  },
  {
   "cell_type": "code",
   "execution_count": 9,
   "metadata": {
    "collapsed": true
   },
   "outputs": [],
   "source": [
    "df = pd.DataFrame(np.random.randn(5,4),['A','B','C','D','E'],['1','2','3','4'])"
   ]
  },
  {
   "cell_type": "code",
   "execution_count": 10,
   "metadata": {},
   "outputs": [
    {
     "data": {
      "text/html": [
       "<div>\n",
       "<style>\n",
       "    .dataframe thead tr:only-child th {\n",
       "        text-align: right;\n",
       "    }\n",
       "\n",
       "    .dataframe thead th {\n",
       "        text-align: left;\n",
       "    }\n",
       "\n",
       "    .dataframe tbody tr th {\n",
       "        vertical-align: top;\n",
       "    }\n",
       "</style>\n",
       "<table border=\"1\" class=\"dataframe\">\n",
       "  <thead>\n",
       "    <tr style=\"text-align: right;\">\n",
       "      <th></th>\n",
       "      <th>1</th>\n",
       "      <th>2</th>\n",
       "      <th>3</th>\n",
       "      <th>4</th>\n",
       "    </tr>\n",
       "  </thead>\n",
       "  <tbody>\n",
       "    <tr>\n",
       "      <th>A</th>\n",
       "      <td>1.548185</td>\n",
       "      <td>-0.283637</td>\n",
       "      <td>0.399484</td>\n",
       "      <td>-0.480869</td>\n",
       "    </tr>\n",
       "    <tr>\n",
       "      <th>B</th>\n",
       "      <td>-1.483027</td>\n",
       "      <td>-0.233343</td>\n",
       "      <td>1.382020</td>\n",
       "      <td>-0.184963</td>\n",
       "    </tr>\n",
       "    <tr>\n",
       "      <th>C</th>\n",
       "      <td>0.412030</td>\n",
       "      <td>0.318512</td>\n",
       "      <td>-0.151064</td>\n",
       "      <td>-0.431365</td>\n",
       "    </tr>\n",
       "    <tr>\n",
       "      <th>D</th>\n",
       "      <td>0.444518</td>\n",
       "      <td>-0.087557</td>\n",
       "      <td>0.291090</td>\n",
       "      <td>3.050868</td>\n",
       "    </tr>\n",
       "    <tr>\n",
       "      <th>E</th>\n",
       "      <td>0.403809</td>\n",
       "      <td>-0.386385</td>\n",
       "      <td>1.175678</td>\n",
       "      <td>-0.111921</td>\n",
       "    </tr>\n",
       "  </tbody>\n",
       "</table>\n",
       "</div>"
      ],
      "text/plain": [
       "          1         2         3         4\n",
       "A  1.548185 -0.283637  0.399484 -0.480869\n",
       "B -1.483027 -0.233343  1.382020 -0.184963\n",
       "C  0.412030  0.318512 -0.151064 -0.431365\n",
       "D  0.444518 -0.087557  0.291090  3.050868\n",
       "E  0.403809 -0.386385  1.175678 -0.111921"
      ]
     },
     "execution_count": 10,
     "metadata": {},
     "output_type": "execute_result"
    }
   ],
   "source": [
    "df"
   ]
  },
  {
   "cell_type": "code",
   "execution_count": null,
   "metadata": {
    "collapsed": true
   },
   "outputs": [],
   "source": []
  },
  {
   "cell_type": "code",
   "execution_count": 8,
   "metadata": {},
   "outputs": [
    {
     "data": {
      "text/html": [
       "<div>\n",
       "<style>\n",
       "    .dataframe thead tr:only-child th {\n",
       "        text-align: right;\n",
       "    }\n",
       "\n",
       "    .dataframe thead th {\n",
       "        text-align: left;\n",
       "    }\n",
       "\n",
       "    .dataframe tbody tr th {\n",
       "        vertical-align: top;\n",
       "    }\n",
       "</style>\n",
       "<table border=\"1\" class=\"dataframe\">\n",
       "  <thead>\n",
       "    <tr style=\"text-align: right;\">\n",
       "      <th></th>\n",
       "      <th>1</th>\n",
       "      <th>2</th>\n",
       "      <th>3</th>\n",
       "      <th>4</th>\n",
       "    </tr>\n",
       "  </thead>\n",
       "  <tbody>\n",
       "    <tr>\n",
       "      <th>A</th>\n",
       "      <td>1.280795</td>\n",
       "      <td>-1.603172</td>\n",
       "      <td>1.224482</td>\n",
       "      <td>0.198255</td>\n",
       "    </tr>\n",
       "    <tr>\n",
       "      <th>B</th>\n",
       "      <td>-1.025945</td>\n",
       "      <td>1.063628</td>\n",
       "      <td>-0.520137</td>\n",
       "      <td>-0.585861</td>\n",
       "    </tr>\n",
       "    <tr>\n",
       "      <th>C</th>\n",
       "      <td>-0.661791</td>\n",
       "      <td>0.435307</td>\n",
       "      <td>1.297282</td>\n",
       "      <td>-1.463527</td>\n",
       "    </tr>\n",
       "    <tr>\n",
       "      <th>D</th>\n",
       "      <td>-0.797151</td>\n",
       "      <td>0.064169</td>\n",
       "      <td>0.808847</td>\n",
       "      <td>-0.099595</td>\n",
       "    </tr>\n",
       "  </tbody>\n",
       "</table>\n",
       "</div>"
      ],
      "text/plain": [
       "          1         2         3         4\n",
       "A  1.280795 -1.603172  1.224482  0.198255\n",
       "B -1.025945  1.063628 -0.520137 -0.585861\n",
       "C -0.661791  0.435307  1.297282 -1.463527\n",
       "D -0.797151  0.064169  0.808847 -0.099595"
      ]
     },
     "execution_count": 8,
     "metadata": {},
     "output_type": "execute_result"
    }
   ],
   "source": [
    "df.drop('E',axis=0)"
   ]
  },
  {
   "cell_type": "code",
   "execution_count": null,
   "metadata": {
    "collapsed": true
   },
   "outputs": [],
   "source": [
    "num = np.random.randn"
   ]
  },
  {
   "cell_type": "code",
   "execution_count": 2,
   "metadata": {},
   "outputs": [
    {
     "ename": "ValueError",
     "evalue": "No tables found",
     "output_type": "error",
     "traceback": [
      "\u001b[1;31m---------------------------------------------------------------------------\u001b[0m",
      "\u001b[1;31mValueError\u001b[0m                                Traceback (most recent call last)",
      "\u001b[1;32m<ipython-input-2-50ed0a2ab7a1>\u001b[0m in \u001b[0;36m<module>\u001b[1;34m()\u001b[0m\n\u001b[0;32m      1\u001b[0m \u001b[1;32mimport\u001b[0m \u001b[0mpandas\u001b[0m \u001b[1;32mas\u001b[0m \u001b[0mpd\u001b[0m\u001b[1;33m\u001b[0m\u001b[0m\n\u001b[1;32m----> 2\u001b[1;33m \u001b[0mdata\u001b[0m \u001b[1;33m=\u001b[0m \u001b[0mpd\u001b[0m\u001b[1;33m.\u001b[0m\u001b[0mread_html\u001b[0m\u001b[1;33m(\u001b[0m\u001b[1;34m'google.com'\u001b[0m\u001b[1;33m)\u001b[0m\u001b[1;33m\u001b[0m\u001b[0m\n\u001b[0m",
      "\u001b[1;32m~\\Anaconda3\\lib\\site-packages\\pandas\\io\\html.py\u001b[0m in \u001b[0;36mread_html\u001b[1;34m(io, match, flavor, header, index_col, skiprows, attrs, parse_dates, tupleize_cols, thousands, encoding, decimal, converters, na_values, keep_default_na)\u001b[0m\n\u001b[0;32m    904\u001b[0m                   \u001b[0mthousands\u001b[0m\u001b[1;33m=\u001b[0m\u001b[0mthousands\u001b[0m\u001b[1;33m,\u001b[0m \u001b[0mattrs\u001b[0m\u001b[1;33m=\u001b[0m\u001b[0mattrs\u001b[0m\u001b[1;33m,\u001b[0m \u001b[0mencoding\u001b[0m\u001b[1;33m=\u001b[0m\u001b[0mencoding\u001b[0m\u001b[1;33m,\u001b[0m\u001b[1;33m\u001b[0m\u001b[0m\n\u001b[0;32m    905\u001b[0m                   \u001b[0mdecimal\u001b[0m\u001b[1;33m=\u001b[0m\u001b[0mdecimal\u001b[0m\u001b[1;33m,\u001b[0m \u001b[0mconverters\u001b[0m\u001b[1;33m=\u001b[0m\u001b[0mconverters\u001b[0m\u001b[1;33m,\u001b[0m \u001b[0mna_values\u001b[0m\u001b[1;33m=\u001b[0m\u001b[0mna_values\u001b[0m\u001b[1;33m,\u001b[0m\u001b[1;33m\u001b[0m\u001b[0m\n\u001b[1;32m--> 906\u001b[1;33m                   keep_default_na=keep_default_na)\n\u001b[0m",
      "\u001b[1;32m~\\Anaconda3\\lib\\site-packages\\pandas\\io\\html.py\u001b[0m in \u001b[0;36m_parse\u001b[1;34m(flavor, io, match, attrs, encoding, **kwargs)\u001b[0m\n\u001b[0;32m    741\u001b[0m             \u001b[1;32mbreak\u001b[0m\u001b[1;33m\u001b[0m\u001b[0m\n\u001b[0;32m    742\u001b[0m     \u001b[1;32melse\u001b[0m\u001b[1;33m:\u001b[0m\u001b[1;33m\u001b[0m\u001b[0m\n\u001b[1;32m--> 743\u001b[1;33m         \u001b[0mraise_with_traceback\u001b[0m\u001b[1;33m(\u001b[0m\u001b[0mretained\u001b[0m\u001b[1;33m)\u001b[0m\u001b[1;33m\u001b[0m\u001b[0m\n\u001b[0m\u001b[0;32m    744\u001b[0m \u001b[1;33m\u001b[0m\u001b[0m\n\u001b[0;32m    745\u001b[0m     \u001b[0mret\u001b[0m \u001b[1;33m=\u001b[0m \u001b[1;33m[\u001b[0m\u001b[1;33m]\u001b[0m\u001b[1;33m\u001b[0m\u001b[0m\n",
      "\u001b[1;32m~\\Anaconda3\\lib\\site-packages\\pandas\\compat\\__init__.py\u001b[0m in \u001b[0;36mraise_with_traceback\u001b[1;34m(exc, traceback)\u001b[0m\n\u001b[0;32m    342\u001b[0m         \u001b[1;32mif\u001b[0m \u001b[0mtraceback\u001b[0m \u001b[1;33m==\u001b[0m \u001b[0mEllipsis\u001b[0m\u001b[1;33m:\u001b[0m\u001b[1;33m\u001b[0m\u001b[0m\n\u001b[0;32m    343\u001b[0m             \u001b[0m_\u001b[0m\u001b[1;33m,\u001b[0m \u001b[0m_\u001b[0m\u001b[1;33m,\u001b[0m \u001b[0mtraceback\u001b[0m \u001b[1;33m=\u001b[0m \u001b[0msys\u001b[0m\u001b[1;33m.\u001b[0m\u001b[0mexc_info\u001b[0m\u001b[1;33m(\u001b[0m\u001b[1;33m)\u001b[0m\u001b[1;33m\u001b[0m\u001b[0m\n\u001b[1;32m--> 344\u001b[1;33m         \u001b[1;32mraise\u001b[0m \u001b[0mexc\u001b[0m\u001b[1;33m.\u001b[0m\u001b[0mwith_traceback\u001b[0m\u001b[1;33m(\u001b[0m\u001b[0mtraceback\u001b[0m\u001b[1;33m)\u001b[0m\u001b[1;33m\u001b[0m\u001b[0m\n\u001b[0m\u001b[0;32m    345\u001b[0m \u001b[1;32melse\u001b[0m\u001b[1;33m:\u001b[0m\u001b[1;33m\u001b[0m\u001b[0m\n\u001b[0;32m    346\u001b[0m     \u001b[1;31m# this version of raise is a syntax error in Python 3\u001b[0m\u001b[1;33m\u001b[0m\u001b[1;33m\u001b[0m\u001b[0m\n",
      "\u001b[1;31mValueError\u001b[0m: No tables found"
     ]
    }
   ],
   "source": [
    "import pandas as pd\n",
    "data = pd.read_html('google.com')"
   ]
  },
  {
   "cell_type": "code",
   "execution_count": 3,
   "metadata": {
    "collapsed": true
   },
   "outputs": [],
   "source": [
    "f_states=   pd.read_html('https://simple.wikipedia.org/wiki/List_of_U.S._states') "
   ]
  },
  {
   "cell_type": "code",
   "execution_count": 4,
   "metadata": {},
   "outputs": [
    {
     "data": {
      "text/plain": [
       "[               0               1               2                  3\n",
       " 0   Abbreviation      State Name         Capital     Became a State\n",
       " 1             AL         Alabama      Montgomery  December 14, 1819\n",
       " 2             AK          Alaska          Juneau    January 3, 1959\n",
       " 3             AZ         Arizona         Phoenix  February 14, 1912\n",
       " 4             AR        Arkansas     Little Rock      June 15, 1836\n",
       " 5             CA      California      Sacramento  September 9, 1850\n",
       " 6             CO        Colorado          Denver     August 1, 1876\n",
       " 7             CT     Connecticut        Hartford    January 9, 1788\n",
       " 8             DE        Delaware           Dover   December 7, 1787\n",
       " 9             FL         Florida     Tallahassee      March 3, 1845\n",
       " 10            GA         Georgia         Atlanta    January 2, 1788\n",
       " 11            HI          Hawaii        Honolulu    August 21, 1959\n",
       " 12            ID           Idaho           Boise       July 3, 1890\n",
       " 13            IL        Illinois     Springfield   December 3, 1818\n",
       " 14            IN         Indiana    Indianapolis  December 11, 1816\n",
       " 15            IA            Iowa      Des Moines  December 28, 1846\n",
       " 16            KS          Kansas          Topeka   January 29, 1861\n",
       " 17            KY        Kentucky       Frankfort       June 1, 1792\n",
       " 18            LA       Louisiana     Baton Rouge     April 30, 1812\n",
       " 19            ME           Maine         Augusta     March 15, 1820\n",
       " 20            MD        Maryland       Annapolis     April 28, 1788\n",
       " 21            MA   Massachusetts          Boston   February 6, 1788\n",
       " 22            MI        Michigan         Lansing   January 26, 1837\n",
       " 23            MN       Minnesota      Saint Paul       May 11, 1858\n",
       " 24            MS     Mississippi         Jackson  December 10, 1817\n",
       " 25            MO        Missouri  Jefferson City    August 10, 1821\n",
       " 26            MT         Montana          Helena   November 8, 1889\n",
       " 27            NE        Nebraska         Lincoln      March 1, 1867\n",
       " 28            NV          Nevada     Carson City   October 31, 1864\n",
       " 29            NH   New Hampshire         Concord      June 21, 1788\n",
       " 30            NJ      New Jersey         Trenton  December 18, 1787\n",
       " 31            NM      New Mexico        Santa Fe    January 6, 1912\n",
       " 32            NY        New York          Albany      July 26, 1788\n",
       " 33            NC  North Carolina         Raleigh  November 21, 1789\n",
       " 34            ND    North Dakota        Bismarck   November 2, 1889\n",
       " 35            OH            Ohio        Columbus      March 1, 1803\n",
       " 36            OK        Oklahoma   Oklahoma City  November 16, 1907\n",
       " 37            OR          Oregon           Salem  February 14, 1859\n",
       " 38            PA    Pennsylvania      Harrisburg  December 12, 1787\n",
       " 39            RI    Rhode Island      Providence       May 19, 1790\n",
       " 40            SC  South Carolina        Columbia       May 23, 1788\n",
       " 41            SD    South Dakota          Pierre   November 2, 1889\n",
       " 42            TN       Tennessee       Nashville       June 1, 1796\n",
       " 43            TX           Texas          Austin  December 29, 1845\n",
       " 44            UT            Utah  Salt Lake City    January 4, 1896\n",
       " 45            VT         Vermont      Montpelier      March 4, 1791\n",
       " 46            VA        Virginia        Richmond      June 25, 1788\n",
       " 47            WA      Washington         Olympia  November 11, 1889\n",
       " 48            WV   West Virginia      Charleston      June 20, 1863\n",
       " 49            WI       Wisconsin         Madison       May 29, 1848\n",
       " 50            WY         Wyoming        Cheyenne      July 10, 1890,\n",
       "                                                 0  \\\n",
       " 0  v t e Political divisions of the United States   \n",
       " 1                                          States   \n",
       " 2                                National capital   \n",
       " 3                                   Large islands   \n",
       " 4                                   Small islands   \n",
       " \n",
       "                                                    1  \n",
       " 0                                                NaN  \n",
       " 1  Alabama · Alaska · Arizona · Arkansas · Califo...  \n",
       " 2                               District of Columbia  \n",
       " 3  American Samoa · Guam · Northern Mariana Islan...  \n",
       " 4  Baker Island · Howland Island · Jarvis Island ...  ]"
      ]
     },
     "execution_count": 4,
     "metadata": {},
     "output_type": "execute_result"
    }
   ],
   "source": [
    "f_states"
   ]
  },
  {
   "cell_type": "code",
   "execution_count": 6,
   "metadata": {},
   "outputs": [
    {
     "ename": "ModuleNotFoundError",
     "evalue": "No module named 'BeautifulSoup4'",
     "output_type": "error",
     "traceback": [
      "\u001b[1;31m---------------------------------------------------------------------------\u001b[0m",
      "\u001b[1;31mModuleNotFoundError\u001b[0m                       Traceback (most recent call last)",
      "\u001b[1;32m<ipython-input-6-78b0eb685144>\u001b[0m in \u001b[0;36m<module>\u001b[1;34m()\u001b[0m\n\u001b[0;32m      1\u001b[0m \u001b[1;32mimport\u001b[0m \u001b[0mhtml5lib\u001b[0m\u001b[1;33m\u001b[0m\u001b[0m\n\u001b[0;32m      2\u001b[0m \u001b[1;32mimport\u001b[0m \u001b[0mlxml\u001b[0m\u001b[1;33m\u001b[0m\u001b[0m\n\u001b[1;32m----> 3\u001b[1;33m \u001b[1;32mimport\u001b[0m \u001b[0mBeautifulSoup4\u001b[0m\u001b[1;33m\u001b[0m\u001b[0m\n\u001b[0m",
      "\u001b[1;31mModuleNotFoundError\u001b[0m: No module named 'BeautifulSoup4'"
     ]
    }
   ],
   "source": [
    "import html5lib\n",
    "import lxml\n",
    "import BeautifulSoup4"
   ]
  },
  {
   "cell_type": "code",
   "execution_count": null,
   "metadata": {
    "collapsed": true
   },
   "outputs": [],
   "source": []
  },
  {
   "cell_type": "code",
   "execution_count": null,
   "metadata": {
    "collapsed": true
   },
   "outputs": [],
   "source": []
  },
  {
   "cell_type": "code",
   "execution_count": null,
   "metadata": {
    "collapsed": true
   },
   "outputs": [],
   "source": []
  },
  {
   "cell_type": "code",
   "execution_count": null,
   "metadata": {
    "collapsed": true
   },
   "outputs": [],
   "source": []
  },
  {
   "cell_type": "code",
   "execution_count": null,
   "metadata": {
    "collapsed": true
   },
   "outputs": [],
   "source": []
  }
 ],
 "metadata": {
  "kernelspec": {
   "display_name": "Python 3",
   "language": "python",
   "name": "python3"
  },
  "language_info": {
   "codemirror_mode": {
    "name": "ipython",
    "version": 3
   },
   "file_extension": ".py",
   "mimetype": "text/x-python",
   "name": "python",
   "nbconvert_exporter": "python",
   "pygments_lexer": "ipython3",
   "version": "3.6.3"
  }
 },
 "nbformat": 4,
 "nbformat_minor": 2
}
